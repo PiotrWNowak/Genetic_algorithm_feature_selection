{
 "cells": [
  {
   "cell_type": "code",
   "execution_count": 1,
   "metadata": {},
   "outputs": [],
   "source": [
    "#!/usr/bin/python3\n",
    "import pandas as pd\n",
    "import numpy as np\n",
    "import matplotlib.pyplot as plt\n",
    "import seaborn as sns\n",
    "from sklearn import datasets, linear_model, decomposition, manifold, preprocessing\n",
    "from sklearn.metrics import mean_squared_error, r2_score, accuracy_score, roc_auc_score\n",
    "from sklearn.discriminant_analysis import LinearDiscriminantAnalysis\n",
    "from sklearn.ensemble import RandomForestRegressor\n",
    "from sklearn.feature_selection import RFE\n",
    "from sklearn.model_selection import StratifiedKFold, KFold\n",
    "import random\n",
    "from genetic import Genetic\n",
    "\n",
    "random.seed()\n",
    "np.random.seed()"
   ]
  },
  {
   "cell_type": "code",
   "execution_count": 2,
   "metadata": {},
   "outputs": [],
   "source": [
    "#----------------------------------------------------\n",
    "#function calculate model for set of features (tab)\n",
    "#----------------------------------------------------\n",
    "def modelCV(x, y, tab):\n",
    "    #skf = StratifiedKFold(n_splits=5)\n",
    "    skf = KFold(n_splits=5)\n",
    "    result = 0\n",
    "    accuracy = 0\n",
    "    for train, test in skf.split(x,y):\n",
    "        reg = linear_model.LogisticRegression()\n",
    "        reg.fit(x.iloc[train, tab == 1],y.iloc[train])\n",
    "        temp_pred = reg.predict(x.iloc[test, tab == 1])\n",
    "        result += mean_squared_error(y.iloc[test], temp_pred)\n",
    "        accuracy += accuracy_score(y.iloc[test], temp_pred)\n",
    "    result /=skf.n_splits\n",
    "    accuracy /=skf.n_splits\n",
    "    return result, accuracy\n"
   ]
  },
  {
   "cell_type": "code",
   "execution_count": 3,
   "metadata": {},
   "outputs": [],
   "source": [
    "#--------------------------------------------------------------------------------------\n",
    "#function calculate model for preprocessing algorithm and return parameters of best run\n",
    "#--------------------------------------------------------------------------------------\n",
    "def CV(reductor, x, y):\n",
    "    r_best = [0, float('Inf'), 0]\n",
    "    for i in range(x.shape[1],0,-1):\n",
    "        reductor.n_components = i\n",
    "        r_x = pd.DataFrame(reductor.fit(x,y).transform(x))\n",
    "        r_error, r_accuracy = modelCV(r_x, y, np.ones(r_x.shape[1]))\n",
    "        if r_error <= r_best[1]:\n",
    "            r_best = [i, r_error, r_accuracy]\n",
    "    return r_best[0], r_best[1], r_best[2]"
   ]
  },
  {
   "cell_type": "code",
   "execution_count": 4,
   "metadata": {},
   "outputs": [],
   "source": [
    "#load dataset\n",
    "dataset = datasets.load_breast_cancer()\n",
    "x = pd.DataFrame(dataset[\"data\"], columns=dataset[\"feature_names\"])\n",
    "y = pd.Series(dataset[\"target\"])"
   ]
  },
  {
   "cell_type": "code",
   "execution_count": 5,
   "metadata": {},
   "outputs": [],
   "source": [
    "#scale dataset\n",
    "sc = preprocessing.StandardScaler()\n",
    "x = pd.DataFrame(sc.fit_transform(x), columns=dataset[\"feature_names\"])"
   ]
  },
  {
   "cell_type": "code",
   "execution_count": 6,
   "metadata": {},
   "outputs": [],
   "source": [
    "#list for ploting results\n",
    "benchmark = []\n",
    "benchmark_names = []\n",
    "benchmark_2 = []\n",
    "benchmark_2_names = []"
   ]
  },
  {
   "cell_type": "code",
   "execution_count": 7,
   "metadata": {},
   "outputs": [
    {
     "name": "stdout",
     "output_type": "stream",
     "text": [
      "Without preprocessing \n",
      "Number of features 30 \n",
      "Error 0.023 \n",
      "Accuracy 0.977\n",
      "\n"
     ]
    }
   ],
   "source": [
    "#-----------------------------------\n",
    "#model without any feature selection\n",
    "#-----------------------------------\n",
    "error, accuracy = modelCV(x,y,np.ones(x.columns.size))\n",
    "benchmark.append([x.columns.size, error, accuracy])\n",
    "benchmark_names.append('Without preprocessing')\n",
    "print('Without preprocessing \\nNumber of features %d \\nError %.3f \\nAccuracy %.3f\\n' % (x.columns.size, error, accuracy))"
   ]
  },
  {
   "cell_type": "code",
   "execution_count": 8,
   "metadata": {},
   "outputs": [
    {
     "name": "stdout",
     "output_type": "stream",
     "text": [
      "RFE \n",
      "Number of features 26 \n",
      "Error 0.018 \n",
      "Accuracy 0.982\n",
      "\n"
     ]
    }
   ],
   "source": [
    "#----------------------------------------\n",
    "#model with Recursive feature elimination\n",
    "#----------------------------------------\n",
    "rfe_best = [0, float('Inf'), 0]\n",
    "reg = linear_model.LogisticRegression()\n",
    "rfe = RFE(reg)\n",
    "for i in range(x.shape[1],0,-1):\n",
    "    rfe.n_features_to_select = i\n",
    "    fit = rfe.fit(x, y)\n",
    "    rfe_error, rfe_accuracy = modelCV(x, y, fit.support_)\n",
    "    if rfe_error <= rfe_best[1]:\n",
    "        rfe_best = [i, rfe_error, rfe_accuracy]\n",
    "benchmark.append(rfe_best)\n",
    "benchmark_names.append('RFE')\n",
    "print('RFE \\nNumber of features %d \\nError %.3f \\nAccuracy %.3f\\n' % (rfe_best[0], rfe_best[1], rfe_best[2]))"
   ]
  },
  {
   "cell_type": "code",
   "execution_count": 9,
   "metadata": {},
   "outputs": [
    {
     "name": "stdout",
     "output_type": "stream",
     "text": [
      "RFR \n",
      "Number of features 21 \n",
      "Error 0.019 \n",
      "Accuracy 0.981\n",
      "\n"
     ]
    }
   ],
   "source": [
    "#--------------------------------------------------------------------------------\n",
    "#model with feature selection on feature importances from Random Forest estimator\n",
    "#--------------------------------------------------------------------------------\n",
    "rf = RandomForestRegressor()\n",
    "rf.fit(x, y)\n",
    "rf_importance=pd.DataFrame(rf.feature_importances_)\n",
    "rf_importance[1]=np.arange(x.columns.size)\n",
    "rf_importance=rf_importance.sort_values(by=0)\n",
    "rfr_ranking = np.array(rf_importance[1])\n",
    "rfr_tab = np.ones(x.columns.size)\n",
    "rfr_best = [0, float('Inf'), 0]\n",
    "rfr_error, rfr_accuracy = modelCV(x, y, rfr_tab)\n",
    "for i in range(x.shape[1]-1):\n",
    "    rfr_tab[rfr_ranking[i]] = 0\n",
    "    rfr_error, rfr_accuracy = modelCV(x, y, rfr_tab)\n",
    "    if rfr_error <= rfr_best[1]:\n",
    "        rfr_best = [x.shape[1]-1-i, rfr_error, rfr_accuracy]\n",
    "benchmark.append(rfr_best)\n",
    "benchmark_names.append('RFR')\n",
    "print('RFR \\nNumber of features %d \\nError %.3f \\nAccuracy %.3f\\n' % (rfr_best[0], rfr_best[1], rfr_best[2]))"
   ]
  },
  {
   "cell_type": "code",
   "execution_count": 10,
   "metadata": {},
   "outputs": [
    {
     "name": "stdout",
     "output_type": "stream",
     "text": [
      "LDA \n",
      "Number of features 1 \n",
      "Error 0.025 \n",
      "Accuracy 0.975\n",
      "\n"
     ]
    }
   ],
   "source": [
    "#-------------------------------------------------------------------------------------------\n",
    "#model with dimensionality reduction using Linear Discriminant Analysis (not for regression)\n",
    "#-------------------------------------------------------------------------------------------\n",
    "lda = LinearDiscriminantAnalysis()\n",
    "best = CV(lda,x,y)\n",
    "benchmark.append(best)\n",
    "benchmark_names.append('LDA')\n",
    "print('LDA \\nNumber of features %d \\nError %.3f \\nAccuracy %.3f\\n' % best)"
   ]
  },
  {
   "cell_type": "code",
   "execution_count": 11,
   "metadata": {},
   "outputs": [
    {
     "name": "stdout",
     "output_type": "stream",
     "text": [
      "FA \n",
      "Number of features 30 \n",
      "Error 0.026 \n",
      "Accuracy 0.974\n",
      "\n"
     ]
    }
   ],
   "source": [
    "#---------------------------------------------------------\n",
    "#model with dimensionality reduction using Factor Analysis\n",
    "#---------------------------------------------------------\n",
    "fa = decomposition.FactorAnalysis(max_iter=2000)\n",
    "best = CV(fa,x,y)\n",
    "benchmark.append(best)\n",
    "benchmark_names.append('FA')\n",
    "print('FA \\nNumber of features %d \\nError %.3f \\nAccuracy %.3f\\n' % best)"
   ]
  },
  {
   "cell_type": "code",
   "execution_count": 12,
   "metadata": {},
   "outputs": [
    {
     "name": "stdout",
     "output_type": "stream",
     "text": [
      "PCA \n",
      "Number of features 15 \n",
      "Error 0.023 \n",
      "Accuracy 0.977\n",
      "\n"
     ]
    }
   ],
   "source": [
    "#----------------------------------------------------------------------\n",
    "#model with dimensionality reduction using Principal component analysis\n",
    "#----------------------------------------------------------------------\n",
    "pca = decomposition.PCA()\n",
    "best = CV(pca,x,y)\n",
    "benchmark.append(best)\n",
    "benchmark_names.append('PCA')\n",
    "print('PCA \\nNumber of features %d \\nError %.3f \\nAccuracy %.3f\\n' % best)"
   ]
  },
  {
   "cell_type": "code",
   "execution_count": 13,
   "metadata": {},
   "outputs": [
    {
     "name": "stdout",
     "output_type": "stream",
     "text": [
      "Isomap \n",
      "Number of features 7 \n",
      "Error 0.028 \n",
      "Accuracy 0.972\n",
      "\n"
     ]
    }
   ],
   "source": [
    "#----------------------------------------------------------------------------------\n",
    "#model with dimensionality reduction through Isometric Mapping (not for regression)\n",
    "#----------------------------------------------------------------------------------\n",
    "iso = manifold.Isomap()\n",
    "best = CV(iso,x,y)\n",
    "benchmark.append(best)\n",
    "benchmark_names.append('Isomap')\n",
    "print('Isomap \\nNumber of features %d \\nError %.3f \\nAccuracy %.3f\\n' % best)"
   ]
  },
  {
   "cell_type": "code",
   "execution_count": 14,
   "metadata": {},
   "outputs": [
    {
     "name": "stdout",
     "output_type": "stream",
     "text": [
      "Genetic algorithm \n",
      "Number of features 15 \n",
      "Error 0.016 \n",
      "Accuracy 0.984\n",
      "\n"
     ]
    }
   ],
   "source": [
    "#-------------------------------------------------------\n",
    "#model with feature selection based on genetic algorithm\n",
    "#-------------------------------------------------------\n",
    "gen = Genetic( features = x.columns.size, parents = 5, children = 20, mutation_scale = 0.05 )\n",
    "gen.fit(x, y, 20, modelCV)\n",
    "benchmark.append((np.count_nonzero(gen.tab[0]), gen.best[-1][0], gen.best[-1][1]))\n",
    "benchmark_names.append('Genetic algorithm')\n",
    "print('Genetic algorithm \\nNumber of features %d \\nError %.3f \\nAccuracy %.3f\\n' % (np.count_nonzero(gen.tab[0]), gen.best[-1][0], gen.best[-1][1]))"
   ]
  },
  {
   "cell_type": "code",
   "execution_count": 20,
   "metadata": {},
   "outputs": [
    {
     "data": {
      "text/plain": [
       "<matplotlib.axes._subplots.AxesSubplot at 0x7f38c4360f28>"
      ]
     },
     "execution_count": 20,
     "metadata": {},
     "output_type": "execute_result"
    },
    {
     "data": {
      "image/png": "[encoded data removed]",
      "text/plain": [
       "<matplotlib.figure.Figure at 0x7f38c43f4a58>"
      ]
     },
     "metadata": {},
     "output_type": "display_data"
    }
   ],
   "source": [
    "#ploting results normalized to result without feature selection or dimensionality reduction\n",
    "benchmark = np.array(benchmark)\n",
    "benchmark /= benchmark[0]\n",
    "benchmark = pd.DataFrame(benchmark, columns=['number of features','loss','accuracy'])\n",
    "benchmark['algorithm'] = benchmark_names\n",
    "benchmark = benchmark.set_index('algorithm')\n",
    "\n",
    "plt.style.use('seaborn-darkgrid')\n",
    "benchmark.plot(kind='bar', title='Cancer dataset (classification)', rot=0, figsize=(15,10))"
   ]
  },
  {
   "cell_type": "code",
   "execution_count": 21,
   "metadata": {},
   "outputs": [],
   "source": [
    "#generate polynomial and interaction features of dataset for creating new features\n",
    "poly = preprocessing.PolynomialFeatures(2)\n",
    "x1 = pd.DataFrame(poly.fit_transform(x))"
   ]
  },
  {
   "cell_type": "code",
   "execution_count": 22,
   "metadata": {},
   "outputs": [
    {
     "name": "stdout",
     "output_type": "stream",
     "text": [
      "Without preprocessing with new features\n",
      "Number of features 496 \n",
      "Error 0.035 \n",
      "Accuracy 0.965\n",
      "\n",
      "Genetic algorithm with new features \n",
      "Number of features 141 \n",
      "Error 0.016 \n",
      "Accuracy 0.984\n",
      "\n",
      "Genetic algorithm with regulation(constant) with new features \n",
      "Number of features 67 \n",
      "Error 0.023 \n",
      "Accuracy 0.977\n",
      "\n",
      "Genetic algorithm with regulation(percent) with new features \n",
      "Number of features 114 \n",
      "Error 0.012 \n",
      "Accuracy 0.988\n",
      "\n"
     ]
    }
   ],
   "source": [
    "#-----------------------------------\n",
    "#model with new created features without any feature selection\n",
    "#-----------------------------------\n",
    "error, accuracy = modelCV(x1,y,np.ones(x1.columns.size))\n",
    "benchmark_2.append([x1.columns.size, error, accuracy])\n",
    "benchmark_2_names.append('Without preprocessing')\n",
    "print('Without preprocessing with new features\\nNumber of features %d \\nError %.3f \\nAccuracy %.3f\\n' % (x1.columns.size, error, accuracy))\n",
    "\n",
    "#---------------------------------------------------------------------------------\n",
    "#model with new created features with feature selection based on genetic algorithm\n",
    "#---------------------------------------------------------------------------------\n",
    "gen = Genetic( features = x1.columns.size, parents = 5, children = 20, mutation_scale = 0.05 )\n",
    "gen.fit(x1, y, 20, modelCV)\n",
    "benchmark_2.append((np.count_nonzero(gen.tab[0]), gen.best[-1][0], gen.best[-1][1]))\n",
    "benchmark_2_names.append('Genetic algorithm')\n",
    "print('Genetic algorithm with new features \\nNumber of features %d \\nError %.3f \\nAccuracy %.3f\\n' % (np.count_nonzero(gen.tab[0]), gen.best[-1][0], gen.best[-1][1]))\n",
    "\n",
    "#-------------------------------------------------------------------------------------------------------------------------------\n",
    "#model with new created features with feature selection based on genetic algorithm with penalty for too many features (constant)\n",
    "#-------------------------------------------------------------------------------------------------------------------------------\n",
    "gen = Genetic( features = x1.columns.size, parents = 5, children = 20, mutation_scale = 0.05, regulation_type = 'constant', constant_factor=9*10**-4)\n",
    "gen.fit(x1, y, 20, modelCV)\n",
    "benchmark_2.append((np.count_nonzero(gen.tab[0]), gen.best[-1][0], gen.best[-1][1]))\n",
    "benchmark_2_names.append('Genetic algorithm with regulation(constant)')\n",
    "print('Genetic algorithm with regulation(constant) with new features \\nNumber of features %d \\nError %.3f \\nAccuracy %.3f\\n' % (np.count_nonzero(gen.tab[0]), gen.best[-1][0], gen.best[-1][1]))\n",
    "\n",
    "#--------------------------------------------------------------------------------------------------------------------------------------\n",
    "#model with new created features with feature selection based on genetic algorithm with penalty for too many features (percent of loss)\n",
    "#--------------------------------------------------------------------------------------------------------------------------------------\n",
    "gen = Genetic( features = x1.columns.size, parents = 5, children = 20, mutation_scale = 0.05, regulation_type = 'percent', percent_factor=9)\n",
    "gen.fit(x1, y, 20, modelCV)\n",
    "benchmark_2.append((np.count_nonzero(gen.tab[0]), gen.best[-1][0], gen.best[-1][1]))\n",
    "benchmark_2_names.append('Genetic algorithm with regulation(percent)')\n",
    "print('Genetic algorithm with regulation(percent) with new features \\nNumber of features %d \\nError %.3f \\nAccuracy %.3f\\n' % (np.count_nonzero(gen.tab[0]), gen.best[-1][0], gen.best[-1][1]))"
   ]
  },
  {
   "cell_type": "code",
   "execution_count": 24,
   "metadata": {},
   "outputs": [
    {
     "data": {
      "text/plain": [
       "<matplotlib.axes._subplots.AxesSubplot at 0x7f38c3d8b710>"
      ]
     },
     "execution_count": 24,
     "metadata": {},
     "output_type": "execute_result"
    },
    {
     "data": {
      "image/png": "[encoded data removed]",
      "text/plain": [
       "<matplotlib.figure.Figure at 0x7f38c4399b70>"
      ]
     },
     "metadata": {},
     "output_type": "display_data"
    }
   ],
   "source": [
    "#ploting results normalized to result without feature selection or dimensionality reduction\n",
    "benchmark_2 = np.array(benchmark_2)\n",
    "benchmark_2 /= benchmark_2[0]\n",
    "benchmark_2 = pd.DataFrame(benchmark_2, columns=['number of features','loss','accuracy'])\n",
    "benchmark_2['algorithm'] = benchmark_2_names\n",
    "benchmark_2 = benchmark_2.set_index('algorithm')\n",
    "\n",
    "plt.style.use('seaborn-darkgrid')\n",
    "benchmark_2.plot(kind='bar', title='Genetic algorithm regulation comparison for classification', rot=0, ylim=[0,1.2], figsize=(15,10))"
   ]
  }
 ],
 "metadata": {
  "kernelspec": {
   "display_name": "Python 3",
   "language": "python",
   "name": "python3"
  },
  "language_info": {
   "codemirror_mode": {
    "name": "ipython",
    "version": 3
   },
   "file_extension": ".py",
   "mimetype": "text/x-python",
   "name": "python",
   "nbconvert_exporter": "python",
   "pygments_lexer": "ipython3",
   "version": "3.5.2"
  }
 },
 "nbformat": 4,
 "nbformat_minor": 2
}
